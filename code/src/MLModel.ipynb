{
 "cells": [
  {
   "cell_type": "code",
   "execution_count": null,
   "id": "da789080-4ef3-424e-8a6b-60a59eee7f94",
   "metadata": {},
   "outputs": [],
   "source": [
    "pip install imblearn"
   ]
  },
  {
   "cell_type": "code",
   "execution_count": 2,
   "id": "3cf506cc-6176-45b6-bf1a-6cf93c65bd42",
   "metadata": {},
   "outputs": [],
   "source": [
    "#Carga de datos\n",
    "\n",
    "def load_data():\n",
    "    \n",
    "    from preparation.preparation d\n",
    "    \n",
    "    ''' Defined Load File '''\n",
    "    model_data = load_file_card().copy()\n",
    "    \n",
    "    ''' Preparin data for analytic model '''\n",
    "    x = model_data.drop(\"fraud\", axis = 1).values\n",
    "    y = model_data[\"fraud\"].values\n",
    "    \n",
    "    return x, y"
   ]
  },
  {
   "cell_type": "code",
   "execution_count": 3,
   "id": "4a1ac184-7e73-44a0-9fdc-4585dc779130",
   "metadata": {},
   "outputs": [],
   "source": [
    "#Particionamiento de datos\n",
    "\n",
    "def make_train_test_split(x, y):\n",
    "    \n",
    "    import pandas as pd\n",
    "    from imblearn.over_sampling import SMOTE\n",
    "    from sklearn.model_selection import train_test_split\n",
    "    \n",
    "    smote = SMOTE(random_state=39)\n",
    "    non_fraud_over, fraud_over = smote.fit_resample(x, y)\n",
    "\n",
    "    non_fraud_over_df = pd.DataFrame(non_fraud_over, columns=[\"distance_from_home\", \"distance_from_last_transaction\",\n",
    "        \"ratio_to_median_purchase_price\", \"repeat_retailer\", \"used_chip\",\n",
    "        \"used_pin_number\", \"online_order\"])\n",
    "\n",
    "    non_fraud_over_df[\"fraud\"] = fraud_over\n",
    "    df3 = non_fraud_over_df\n",
    "\n",
    "    feature_columns = [\"distance_from_home\", \"distance_from_last_transaction\",\n",
    "    \"ratio_to_median_purchase_price\", \"repeat_retailer\", \"used_chip\", \"used_pin_number\", \"online_order\"]\n",
    "\n",
    "    X_smote = df3[feature_columns]\n",
    "    y_smote = df3.fraud\n",
    "\n",
    "    X_train_smote, X_test_smote, y_train_smote, y_test_smote = train_test_split(X_smote, y_smote, test_size=0.2, random_state=39)\n",
    "    \n",
    "    return X_train_smote, X_test_smote, y_train_smote, y_test_smote\n"
   ]
  },
  {
   "cell_type": "code",
   "execution_count": 4,
   "id": "a48f3e9b-2153-4c8d-9432-e336a725b414",
   "metadata": {},
   "outputs": [],
   "source": [
    "#Calculo de metricas\n",
    "\n",
    "def eval_metrics(y_test_smote, y_pred_logreg_smote):\n",
    "    \n",
    "    from sklearn.metrics import classification_report\n",
    "    from sklearn.metrics import confusion_matrix\n",
    "    \n",
    "    #confusion matrix\n",
    "    confusion_matrix_logreg = confusion_matrix(y_test_smote, y_pred_logreg_smote)\n",
    "    \n",
    "    #classification report\n",
    "    classification_report_logreg = classification_report(y_test_smote, y_pred_logreg_smote, digits=6)\n",
    "    \n",
    "    return confusion_matrix_logreg, classification_report_logreg    "
   ]
  },
  {
   "cell_type": "code",
   "execution_count": 5,
   "id": "e1288663-010c-4406-bcfa-9aff1ba7ad0d",
   "metadata": {},
   "outputs": [],
   "source": [
    "#Reporte de métricas\n",
    "\n",
    "def report(confusion_matrix_logreg, classification_report_logreg):\n",
    "    \n",
    "    print(f\"Confusion matrix Logistic Regression: {confusion_matrix_logreg}\")\n",
    "    print(f\"classification report RL: {classification_report_logreg}\")"
   ]
  },
  {
   "cell_type": "code",
   "execution_count": 17,
   "id": "b6a98250-7dde-4e57-8afb-898f44570fb1",
   "metadata": {},
   "outputs": [],
   "source": [
    "#Seteo de ruta para registro de modelos\n",
    "def set_tracking_uri():\n",
    "\n",
    "    import mlflow\n",
    "\n",
    "    mlflow.set_tracking_uri('sqlite:///mlruns.db')\n",
    "    #mlflow.set_tracking_uri('http://localhost:5000')"
   ]
  },
  {
   "cell_type": "code",
   "execution_count": 7,
   "id": "2e611284-f1e8-401a-880a-87d62d810d52",
   "metadata": {},
   "outputs": [],
   "source": [
    "#Visualización config de rutas\n",
    "def display_config():\n",
    "\n",
    "    import mlflow\n",
    "\n",
    "    print(\"Current model registry uri: {}\".format(mlflow.get_registry_uri()))\n",
    "    print(\"      Current tracking uri: {}\".format(mlflow.get_tracking_uri()))\n",
    "    print(\"      Artifacts tracking uri: {}\".format(mlflow.get_tracking_uri()))"
   ]
  },
  {
   "cell_type": "code",
   "execution_count": 10,
   "id": "6527cbf4-bb42-4a96-aaff-05e48e52286f",
   "metadata": {
    "tags": []
   },
   "outputs": [],
   "source": [
    "#Entrenamiento modelo\n",
    "\n",
    "def train_logreg (max_iter = 200):\n",
    "    \n",
    "    import mlflow.sklearn\n",
    "    import mlflow    \n",
    "    from sklearn.linear_model import LogisticRegression\n",
    "    \n",
    "    #Habilita autolog\n",
    "    mlflow.sklearn.autolog()\n",
    "    \n",
    "    #Setea entorno para registros\n",
    "    set_tracking_uri()\n",
    "    \n",
    "    x, y = load_data()\n",
    "    \n",
    "    X_train_smote, X_test_smote, y_train_smote, y_test_smote = make_train_test_split(x, y)\n",
    "    \n",
    "    print('Tracking directory:', mlflow.get_tracking_uri())\n",
    "    \n",
    "    with mlflow.start_run(run_name = \"LogReg_Model\") as run:\n",
    "    \n",
    "        logreg = LogisticRegression(max_iter=max_iter)\n",
    "        logreg.fit(X_train_smote, y_train_smote)\n",
    "\n",
    "        y_pred_logreg_smote = logreg.predict(X_test_smote)\n",
    "        \n",
    "        \n",
    "        confusion_matrix_logreg, classification_report_logreg = eval_metrics(y_test_smote, y_pred_logreg_smote)\n",
    "        \n",
    "        report(confusion_matrix_logreg, classification_report_logreg)\n",
    "        \n",
    "        #\n",
    "        # Tracking de parámetros\n",
    "        #\n",
    "        mlflow.log_param(\"max_iter\", max_iter)\n",
    "\n",
    "        #\n",
    "        # Tracking de metricas\n",
    "        #\n",
    "        mlflow.log_metric(\"accuracy_logreg\", logreg.score(X_test_smote, y_test_smote))\n",
    "        #mlflow.log_metric(\"classification_report_logreg\", classification_report_logreg)\n",
    "\n",
    "        #\n",
    "        # Log del modelo\n",
    "        #\n",
    "        mlflow.sklearn.log_model(logreg, \"model\")\n",
    "        \n",
    "        #\n",
    "        #Registro del modelo luego de varias corridas (se descomenta luego de correr con varias max_iter)\n",
    "        #\n",
    "        mlflow.register_model(\n",
    "            f\"runs:/{run.info.run_id}\",\n",
    "            f\"sklearn-{max_iter}-iterations-logistic-regression-model\"\n",
    "        )\n",
    "        \n",
    "        return (run.info.experiment_id, run.info.run_id)"
   ]
  },
  {
   "cell_type": "code",
   "execution_count": 11,
   "id": "4f9c8fb2-7d07-41b7-93b7-c9ab9ca393fa",
   "metadata": {},
   "outputs": [
    {
     "name": "stderr",
     "output_type": "stream",
     "text": [
      "2023/03/25 00:25:17 INFO mlflow.utils.autologging_utils: Created MLflow autologging run with ID '54cc11bb661f4a68afdb1061ebda3d29', which will track hyperparameters, performance metrics, model artifacts, and lineage information for the current sklearn workflow\n",
      "2023/03/25 00:25:18 WARNING mlflow.sklearn: Training metrics will not be recorded because training labels were not specified. To automatically record training metrics, provide training labels as inputs to the model training function.\n",
      "2023/03/25 00:25:18 WARNING mlflow.sklearn: Failed to infer model signature: the trained model does not specify a `predict` function, which is required in order to infer the signature\n"
     ]
    },
    {
     "name": "stdout",
     "output_type": "stream",
     "text": [
      "Tracking directory: sqlite:///mlruns.db\n",
      "Confusion matrix Logistic Regression: [[170558  12121]\n",
      " [  9170 173190]]\n",
      "classification report RL:               precision    recall  f1-score   support\n",
      "\n",
      "         0.0   0.948978  0.933649  0.941251    182679\n",
      "         1.0   0.934591  0.949715  0.942092    182360\n",
      "\n",
      "    accuracy                       0.941675    365039\n",
      "   macro avg   0.941785  0.941682  0.941672    365039\n",
      "weighted avg   0.941791  0.941675  0.941671    365039\n",
      "\n"
     ]
    },
    {
     "data": {
      "text/plain": [
       "('0', '091922b00b35472bb1288a61d7f5b9fa')"
      ]
     },
     "execution_count": 11,
     "metadata": {},
     "output_type": "execute_result"
    }
   ],
   "source": [
    "#Corridas\n",
    "train_logreg()"
   ]
  },
  {
   "cell_type": "code",
   "execution_count": null,
   "id": "11e90574-8201-4169-99c6-804ce3f7a7fc",
   "metadata": {},
   "outputs": [],
   "source": [
    "train_logreg(300)"
   ]
  },
  {
   "cell_type": "code",
   "execution_count": null,
   "id": "391266c0-11db-4c7e-95df-24d82bf2b35d",
   "metadata": {},
   "outputs": [],
   "source": [
    "train_logreg(500)"
   ]
  },
  {
   "cell_type": "code",
   "execution_count": null,
   "id": "2297ad65-2b44-451f-9b8d-d039e5dc43b5",
   "metadata": {},
   "outputs": [],
   "source": [
    "train_logreg(5000)"
   ]
  },
  {
   "cell_type": "code",
   "execution_count": 12,
   "id": "7641f46b-1f81-49e8-a7a7-82c4e3970b08",
   "metadata": {},
   "outputs": [
    {
     "name": "stderr",
     "output_type": "stream",
     "text": [
      "2023/03/25 00:26:32 INFO mlflow.utils.autologging_utils: Created MLflow autologging run with ID '3be023fe6f92464ab92db76bb5aa99a0', which will track hyperparameters, performance metrics, model artifacts, and lineage information for the current sklearn workflow\n",
      "2023/03/25 00:26:32 WARNING mlflow.sklearn: Training metrics will not be recorded because training labels were not specified. To automatically record training metrics, provide training labels as inputs to the model training function.\n",
      "2023/03/25 00:26:32 WARNING mlflow.sklearn: Failed to infer model signature: the trained model does not specify a `predict` function, which is required in order to infer the signature\n"
     ]
    },
    {
     "data": {
      "text/plain": [
       "'\\'{\"columns\":[\"distance_from_home\",\"distance_from_last_transaction\",\"ratio_to_median_purchase_price\",\"repeat_retailer\",\"used_chip\",\"used_pin_number\",\"online_order\"],\"index\":[40180,360884,1713712,1202718,1104767,1186848,764499,1206247,645822,545780],\"data\":[[22.4515410324,0.8570034081,1.1089148972,1.0,1.0,0.0,0.0],[2.7187672796,4.1638797774,0.6666231243,1.0,0.0,1.0,1.0],[31.7590076364,7.3546926635,5.0298263101,1.0,0.0,0.0,1.0],[31.5252884017,3.0382427237,10.4837593271,1.0,0.0,0.0,1.0],[7.6859550513,1.1679889103,6.8111370322,1.0,1.0,0.0,1.0],[4.862060388,0.1665092596,7.4033881957,1.0,0.0,0.0,1.0],[18.6174737057,3.3382951337,2.5523527288,1.0,1.0,1.0,1.0],[1.2281278102,0.3729986004,7.406533537,0.0,0.0,0.0,1.0],[24.8193826545,1.7512711665,0.7965344183,1.0,1.0,0.0,0.0],[4.6623866136,0.1949628846,0.2885423625,1.0,0.0,0.0,1.0]]}\\''"
      ]
     },
     "execution_count": 12,
     "metadata": {},
     "output_type": "execute_result"
    }
   ],
   "source": [
    "def get_json_test_data():\n",
    "\n",
    "    x, y = load_data()\n",
    "    x_train, x_test, y_train, y_test = make_train_test_split(x, y)\n",
    "\n",
    "    data = x_test.iloc[0:10,:].to_json(orient='split')\n",
    "\n",
    "    data = repr(data)\n",
    "    return data\n",
    "\n",
    "data = get_json_test_data()\n",
    "data"
   ]
  },
  {
   "cell_type": "code",
   "execution_count": 20,
   "id": "169745bc-32e7-4958-bdfc-bf82a6f3481d",
   "metadata": {},
   "outputs": [
    {
     "name": "stdout",
     "output_type": "stream",
     "text": [
      "Current model registry uri: sqlite:///mlruns.db\n",
      "      Current tracking uri: sqlite:///mlruns.db\n"
     ]
    }
   ],
   "source": [
    "display_config()"
   ]
  },
  {
   "cell_type": "code",
   "execution_count": 18,
   "id": "37a9497b-1487-4fe4-9259-49d54194f5c9",
   "metadata": {},
   "outputs": [],
   "source": [
    "set_tracking_uri()"
   ]
  },
  {
   "cell_type": "code",
   "execution_count": 21,
   "id": "1daa3d74-3210-41ea-b41b-1a4b643dcf02",
   "metadata": {},
   "outputs": [
    {
     "name": "stdout",
     "output_type": "stream",
     "text": [
      "[0.0, 0.0, 1.0, 1.0, 1.0, 1.0, 0.0, 1.0, 0.0, 0.0]"
     ]
    }
   ],
   "source": [
    "!curl http://localhost:5000/invocations -H 'Content-Type: application/json' -d {data}"
   ]
  },
  {
   "cell_type": "code",
   "execution_count": null,
   "id": "facf301a-d1ad-4ba8-a24a-a5477fe87d70",
   "metadata": {},
   "outputs": [],
   "source": []
  }
 ],
 "metadata": {
  "kernelspec": {
   "display_name": "Python 3 (ipykernel)",
   "language": "python",
   "name": "python3"
  },
  "language_info": {
   "codemirror_mode": {
    "name": "ipython",
    "version": 3
   },
   "file_extension": ".py",
   "mimetype": "text/x-python",
   "name": "python",
   "nbconvert_exporter": "python",
   "pygments_lexer": "ipython3",
   "version": "3.8.10"
  }
 },
 "nbformat": 4,
 "nbformat_minor": 5
}
