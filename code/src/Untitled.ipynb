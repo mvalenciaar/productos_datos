{
 "cells": [
  {
   "cell_type": "code",
   "execution_count": 15,
   "id": "6bb4f679-8ba7-4f60-ad1f-18b174b67a8a",
   "metadata": {},
   "outputs": [
    {
     "name": "stdout",
     "output_type": "stream",
     "text": [
      "Collecting imblearn\n",
      "  Downloading imblearn-0.0-py2.py3-none-any.whl (1.9 kB)\n",
      "Collecting imbalanced-learn\n",
      "  Downloading imbalanced_learn-0.10.1-py3-none-any.whl (226 kB)\n",
      "\u001b[2K     \u001b[90m━━━━━━━━━━━━━━━━━━━━━━━━━━━━━━━━━━━━━━━\u001b[0m \u001b[32m226.0/226.0 kB\u001b[0m \u001b[31m2.3 MB/s\u001b[0m eta \u001b[36m0:00:00\u001b[0ma \u001b[36m0:00:01\u001b[0m\n",
      "\u001b[?25hRequirement already satisfied: scikit-learn>=1.0.2 in /usr/local/lib/python3.8/dist-packages (from imbalanced-learn->imblearn) (1.1.1)\n",
      "Collecting joblib>=1.1.1\n",
      "  Downloading joblib-1.2.0-py3-none-any.whl (297 kB)\n",
      "\u001b[2K     \u001b[90m━━━━━━━━━━━━━━━━━━━━━━━━━━━━━━━━━━━━━━━\u001b[0m \u001b[32m298.0/298.0 kB\u001b[0m \u001b[31m4.2 MB/s\u001b[0m eta \u001b[36m0:00:00\u001b[0m00:01\u001b[0m00:01\u001b[0m\n",
      "\u001b[?25hRequirement already satisfied: scipy>=1.3.2 in /usr/local/lib/python3.8/dist-packages (from imbalanced-learn->imblearn) (1.8.1)\n",
      "Requirement already satisfied: threadpoolctl>=2.0.0 in /usr/local/lib/python3.8/dist-packages (from imbalanced-learn->imblearn) (3.1.0)\n",
      "Requirement already satisfied: numpy>=1.17.3 in /usr/local/lib/python3.8/dist-packages (from imbalanced-learn->imblearn) (1.22.4)\n",
      "Installing collected packages: joblib, imbalanced-learn, imblearn\n",
      "  Attempting uninstall: joblib\n",
      "    Found existing installation: joblib 1.1.0\n",
      "    Uninstalling joblib-1.1.0:\n",
      "      Successfully uninstalled joblib-1.1.0\n",
      "Successfully installed imbalanced-learn-0.10.1 imblearn-0.0 joblib-1.2.0\n",
      "\u001b[33mWARNING: Running pip as the 'root' user can result in broken permissions and conflicting behaviour with the system package manager. It is recommended to use a virtual environment instead: https://pip.pypa.io/warnings/venv\u001b[0m\u001b[33m\n",
      "\u001b[0m--- Logging error ---\n",
      "Traceback (most recent call last):\n",
      "  File \"/usr/local/lib/python3.8/dist-packages/pip/_internal/utils/logging.py\", line 177, in emit\n",
      "    self.console.print(renderable, overflow=\"ignore\", crop=False, style=style)\n",
      "  File \"/usr/local/lib/python3.8/dist-packages/pip/_vendor/rich/console.py\", line 1752, in print\n",
      "    extend(render(renderable, render_options))\n",
      "  File \"/usr/local/lib/python3.8/dist-packages/pip/_vendor/rich/console.py\", line 1390, in render\n",
      "    for render_output in iter_render:\n",
      "  File \"/usr/local/lib/python3.8/dist-packages/pip/_internal/utils/logging.py\", line 134, in __rich_console__\n",
      "    for line in lines:\n",
      "  File \"/usr/local/lib/python3.8/dist-packages/pip/_vendor/rich/segment.py\", line 245, in split_lines\n",
      "    for segment in segments:\n",
      "  File \"/usr/local/lib/python3.8/dist-packages/pip/_vendor/rich/console.py\", line 1368, in render\n",
      "    renderable = rich_cast(renderable)\n",
      "  File \"/usr/local/lib/python3.8/dist-packages/pip/_vendor/rich/protocol.py\", line 36, in rich_cast\n",
      "    renderable = cast_method()\n",
      "  File \"/usr/local/lib/python3.8/dist-packages/pip/_internal/self_outdated_check.py\", line 130, in __rich__\n",
      "    pip_cmd = get_best_invocation_for_this_pip()\n",
      "  File \"/usr/local/lib/python3.8/dist-packages/pip/_internal/utils/entrypoints.py\", line 58, in get_best_invocation_for_this_pip\n",
      "    if found_executable and os.path.samefile(\n",
      "  File \"/usr/lib/python3.8/genericpath.py\", line 101, in samefile\n",
      "    s2 = os.stat(f2)\n",
      "FileNotFoundError: [Errno 2] No such file or directory: '/usr/bin/pip3.8'\n",
      "Call stack:\n",
      "  File \"/usr/lib/python3.8/runpy.py\", line 194, in _run_module_as_main\n",
      "    return _run_code(code, main_globals, None,\n",
      "  File \"/usr/lib/python3.8/runpy.py\", line 87, in _run_code\n",
      "    exec(code, run_globals)\n",
      "  File \"/usr/local/lib/python3.8/dist-packages/pip/__main__.py\", line 31, in <module>\n",
      "    sys.exit(_main())\n",
      "  File \"/usr/local/lib/python3.8/dist-packages/pip/_internal/cli/main.py\", line 70, in main\n",
      "    return command.main(cmd_args)\n",
      "  File \"/usr/local/lib/python3.8/dist-packages/pip/_internal/cli/base_command.py\", line 101, in main\n",
      "    return self._main(args)\n",
      "  File \"/usr/local/lib/python3.8/dist-packages/pip/_internal/cli/base_command.py\", line 223, in _main\n",
      "    self.handle_pip_version_check(options)\n",
      "  File \"/usr/local/lib/python3.8/dist-packages/pip/_internal/cli/req_command.py\", line 148, in handle_pip_version_check\n",
      "    pip_self_version_check(session, options)\n",
      "  File \"/usr/local/lib/python3.8/dist-packages/pip/_internal/self_outdated_check.py\", line 237, in pip_self_version_check\n",
      "    logger.info(\"[present-rich] %s\", upgrade_prompt)\n",
      "  File \"/usr/lib/python3.8/logging/__init__.py\", line 1446, in info\n",
      "    self._log(INFO, msg, args, **kwargs)\n",
      "  File \"/usr/lib/python3.8/logging/__init__.py\", line 1589, in _log\n",
      "    self.handle(record)\n",
      "  File \"/usr/lib/python3.8/logging/__init__.py\", line 1599, in handle\n",
      "    self.callHandlers(record)\n",
      "  File \"/usr/lib/python3.8/logging/__init__.py\", line 1661, in callHandlers\n",
      "    hdlr.handle(record)\n",
      "  File \"/usr/lib/python3.8/logging/__init__.py\", line 954, in handle\n",
      "    self.emit(record)\n",
      "  File \"/usr/local/lib/python3.8/dist-packages/pip/_internal/utils/logging.py\", line 179, in emit\n",
      "    self.handleError(record)\n",
      "Message: '[present-rich] %s'\n",
      "Arguments: (UpgradePrompt(old='22.1.2', new='23.0.1'),)\n",
      "Note: you may need to restart the kernel to use updated packages.\n"
     ]
    }
   ],
   "source": [
    "pip install imblearn"
   ]
  },
  {
   "cell_type": "code",
   "execution_count": 9,
   "id": "3cf506cc-6176-45b6-bf1a-6cf93c65bd42",
   "metadata": {},
   "outputs": [],
   "source": [
    "#Carga de datos\n",
    "\n",
    "def load_data():\n",
    "    \n",
    "    from preparation.preparation import load_file_card\n",
    "    \n",
    "    ''' Defined Load File '''\n",
    "    model_data = load_file_card().copy()\n",
    "    \n",
    "    ''' Preparin data for analytic model '''\n",
    "    x = model_data.drop(\"fraud\", axis = 1).values\n",
    "    y = model_data[\"fraud\"].values\n",
    "    \n",
    "    return x, y"
   ]
  },
  {
   "cell_type": "code",
   "execution_count": 10,
   "id": "4a1ac184-7e73-44a0-9fdc-4585dc779130",
   "metadata": {},
   "outputs": [],
   "source": [
    "#Particionamiento de datos\n",
    "\n",
    "def make_train_test_split(x, y):\n",
    "    \n",
    "    import pandas as pd\n",
    "    from imblearn.over_sampling import SMOTE\n",
    "    from sklearn.model_selection import train_test_split\n",
    "    \n",
    "    smote = SMOTE(random_state=39)\n",
    "    non_fraud_over, fraud_over = smote.fit_resample(x, y)\n",
    "\n",
    "    non_fraud_over_df = pd.DataFrame(non_fraud_over, columns=[\"distance_from_home\", \"distance_from_last_transaction\",\n",
    "        \"ratio_to_median_purchase_price\", \"repeat_retailer\", \"used_chip\",\n",
    "        \"used_pin_number\", \"online_order\"])\n",
    "\n",
    "    non_fraud_over_df[\"fraud\"] = fraud_over\n",
    "    df3 = non_fraud_over_df\n",
    "\n",
    "    feature_columns = [\"distance_from_home\", \"distance_from_last_transaction\",\n",
    "    \"ratio_to_median_purchase_price\", \"repeat_retailer\", \"used_chip\", \"used_pin_number\", \"online_order\"]\n",
    "\n",
    "    X_smote = df3[feature_columns]\n",
    "    y_smote = df3.fraud\n",
    "\n",
    "    X_train_smote, X_test_smote, y_train_smote, y_test_smote = train_test_split(X_smote, y_smote, test_size=0.2, random_state=39)\n",
    "    \n",
    "    return X_train_smote, X_test_smote, y_train_smote, y_test_smote\n"
   ]
  },
  {
   "cell_type": "code",
   "execution_count": 43,
   "id": "a48f3e9b-2153-4c8d-9432-e336a725b414",
   "metadata": {},
   "outputs": [],
   "source": [
    "#Calculo de metricas\n",
    "\n",
    "def eval_metrics(y_test_smote, y_pred_logreg_smote):\n",
    "    \n",
    "    from sklearn.metrics import classification_report\n",
    "    from sklearn.metrics import confusion_matrix\n",
    "    \n",
    "    #confusion matrix\n",
    "    confusion_matrix_logreg = confusion_matrix(y_test_smote, y_pred_logreg_smote)\n",
    "    \n",
    "    #classification report\n",
    "    classification_report_logreg = classification_report(y_test_smote, y_pred_logreg_smote, digits=6)\n",
    "    \n",
    "    return confusion_matrix_logreg, classification_report_logreg    "
   ]
  },
  {
   "cell_type": "code",
   "execution_count": 44,
   "id": "e1288663-010c-4406-bcfa-9aff1ba7ad0d",
   "metadata": {},
   "outputs": [],
   "source": [
    "#Reporte de métricas\n",
    "\n",
    "def report(confusion_matrix_logreg, classification_report_logreg):\n",
    "    \n",
    "    print(f\"Confusion matrix Logistic Regression: {confusion_matrix_logreg}\")\n",
    "    print(f\"classification report RL: {classification_report_logreg}\")"
   ]
  },
  {
   "cell_type": "code",
   "execution_count": 45,
   "id": "6527cbf4-bb42-4a96-aaff-05e48e52286f",
   "metadata": {},
   "outputs": [],
   "source": [
    "#Entrenamiento modelo\n",
    "\n",
    "def train_logreg (max_iter = 200):\n",
    "    \n",
    "    import mlflow.sklearn\n",
    "    import mlflow    \n",
    "    from sklearn.linear_model import LogisticRegression\n",
    "    \n",
    "    x, y = load_data()\n",
    "    \n",
    "    X_train_smote, X_test_smote, y_train_smote, y_test_smote = make_train_test_split(x, y)\n",
    "    \n",
    "    print('Tracking directory:', mlflow.get_tracking_uri())\n",
    "    \n",
    "    with mlflow.start_run(run_name = \"LogReg_Model\") as run:\n",
    "    \n",
    "        logreg = LogisticRegression(max_iter=max_iter)\n",
    "        logreg.fit(X_train_smote, y_train_smote)\n",
    "\n",
    "        y_pred_logreg_smote = logreg.predict(X_test_smote)\n",
    "        \n",
    "        \n",
    "        confusion_matrix_logreg, classification_report_logreg = eval_metrics(y_test_smote, y_pred_logreg_smote)\n",
    "        \n",
    "        report(confusion_matrix_logreg, classification_report_logreg)\n",
    "        \n",
    "        #\n",
    "        # Tracking de parámetros\n",
    "        #\n",
    "        mlflow.log_param(\"max_iter\", max_iter)\n",
    "\n",
    "        #\n",
    "        # Tracking de metricas\n",
    "        #\n",
    "        mlflow.log_metric(\"accuracy_logreg\", logreg.score(X_test_smote, y_test_smote))\n",
    "        #mlflow.log_metric(\"classification_report_logreg\", classification_report_logreg)\n",
    "\n",
    "        #\n",
    "        # Tracking del modelo\n",
    "        #\n",
    "        #mlflow.sklearn.log_model(logreg, \"model\")\n",
    "        \n",
    "        return (run.info.experiment_id, run.info.run_id)"
   ]
  },
  {
   "cell_type": "code",
   "execution_count": 46,
   "id": "4f9c8fb2-7d07-41b7-93b7-c9ab9ca393fa",
   "metadata": {},
   "outputs": [
    {
     "name": "stdout",
     "output_type": "stream",
     "text": [
      "Tracking directory: file:///workspace/src/mlruns\n",
      "Confusion matrix Logistic Regression: [[170558  12121]\n",
      " [  9170 173190]]\n",
      "classification report RL:               precision    recall  f1-score   support\n",
      "\n",
      "         0.0   0.948978  0.933649  0.941251    182679\n",
      "         1.0   0.934591  0.949715  0.942092    182360\n",
      "\n",
      "    accuracy                       0.941675    365039\n",
      "   macro avg   0.941785  0.941682  0.941672    365039\n",
      "weighted avg   0.941791  0.941675  0.941671    365039\n",
      "\n"
     ]
    },
    {
     "data": {
      "text/plain": [
       "('0', 'd45ec45a18554895aec385db3e639489')"
      ]
     },
     "execution_count": 46,
     "metadata": {},
     "output_type": "execute_result"
    }
   ],
   "source": [
    "#Corridas\n",
    "train_logreg()"
   ]
  },
  {
   "cell_type": "code",
   "execution_count": 47,
   "id": "11e90574-8201-4169-99c6-804ce3f7a7fc",
   "metadata": {},
   "outputs": [
    {
     "name": "stdout",
     "output_type": "stream",
     "text": [
      "Tracking directory: file:///workspace/src/mlruns\n",
      "Confusion matrix Logistic Regression: [[170558  12121]\n",
      " [  9170 173190]]\n",
      "classification report RL:               precision    recall  f1-score   support\n",
      "\n",
      "         0.0   0.948978  0.933649  0.941251    182679\n",
      "         1.0   0.934591  0.949715  0.942092    182360\n",
      "\n",
      "    accuracy                       0.941675    365039\n",
      "   macro avg   0.941785  0.941682  0.941672    365039\n",
      "weighted avg   0.941791  0.941675  0.941671    365039\n",
      "\n"
     ]
    },
    {
     "data": {
      "text/plain": [
       "('0', '751ddc4fcf574d339193df6ae51e8c7e')"
      ]
     },
     "execution_count": 47,
     "metadata": {},
     "output_type": "execute_result"
    }
   ],
   "source": [
    "train_logreg(300)"
   ]
  },
  {
   "cell_type": "code",
   "execution_count": 48,
   "id": "391266c0-11db-4c7e-95df-24d82bf2b35d",
   "metadata": {},
   "outputs": [
    {
     "name": "stdout",
     "output_type": "stream",
     "text": [
      "Tracking directory: file:///workspace/src/mlruns\n",
      "Confusion matrix Logistic Regression: [[170558  12121]\n",
      " [  9170 173190]]\n",
      "classification report RL:               precision    recall  f1-score   support\n",
      "\n",
      "         0.0   0.948978  0.933649  0.941251    182679\n",
      "         1.0   0.934591  0.949715  0.942092    182360\n",
      "\n",
      "    accuracy                       0.941675    365039\n",
      "   macro avg   0.941785  0.941682  0.941672    365039\n",
      "weighted avg   0.941791  0.941675  0.941671    365039\n",
      "\n"
     ]
    },
    {
     "data": {
      "text/plain": [
       "('0', '08316c1316ed4284887e5097e74d9229')"
      ]
     },
     "execution_count": 48,
     "metadata": {},
     "output_type": "execute_result"
    }
   ],
   "source": [
    "train_logreg(500)"
   ]
  },
  {
   "cell_type": "code",
   "execution_count": 49,
   "id": "2297ad65-2b44-451f-9b8d-d039e5dc43b5",
   "metadata": {},
   "outputs": [
    {
     "name": "stdout",
     "output_type": "stream",
     "text": [
      "Tracking directory: file:///workspace/src/mlruns\n",
      "Confusion matrix Logistic Regression: [[170558  12121]\n",
      " [  9170 173190]]\n",
      "classification report RL:               precision    recall  f1-score   support\n",
      "\n",
      "         0.0   0.948978  0.933649  0.941251    182679\n",
      "         1.0   0.934591  0.949715  0.942092    182360\n",
      "\n",
      "    accuracy                       0.941675    365039\n",
      "   macro avg   0.941785  0.941682  0.941672    365039\n",
      "weighted avg   0.941791  0.941675  0.941671    365039\n",
      "\n"
     ]
    },
    {
     "data": {
      "text/plain": [
       "('0', '5c85417c2539483686b9b77dd303d797')"
      ]
     },
     "execution_count": 49,
     "metadata": {},
     "output_type": "execute_result"
    }
   ],
   "source": [
    "train_logreg(5000)"
   ]
  },
  {
   "cell_type": "code",
   "execution_count": null,
   "id": "9ed81521-d75c-4799-8fd2-2e92eb252c08",
   "metadata": {},
   "outputs": [],
   "source": []
  }
 ],
 "metadata": {
  "kernelspec": {
   "display_name": "Python 3 (ipykernel)",
   "language": "python",
   "name": "python3"
  },
  "language_info": {
   "codemirror_mode": {
    "name": "ipython",
    "version": 3
   },
   "file_extension": ".py",
   "mimetype": "text/x-python",
   "name": "python",
   "nbconvert_exporter": "python",
   "pygments_lexer": "ipython3",
   "version": "3.8.10"
  }
 },
 "nbformat": 4,
 "nbformat_minor": 5
}
